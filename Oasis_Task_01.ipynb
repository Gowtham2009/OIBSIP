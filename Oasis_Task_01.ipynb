{
 "cells": [
  {
   "cell_type": "code",
   "execution_count": 4,
   "id": "b6bf0075",
   "metadata": {},
   "outputs": [],
   "source": [
    "import numpy as np\n",
    "import pandas as pd\n",
    "from sklearn.datasets import load_iris\n",
    "from sklearn.model_selection import train_test_split\n",
    "from sklearn.preprocessing import StandardScaler\n",
    "from sklearn.neighbors import KNeighborsClassifier\n",
    "from sklearn.metrics import accuracy_score\n"
   ]
  },
  {
   "cell_type": "code",
   "execution_count": 6,
   "id": "1d8398b7",
   "metadata": {},
   "outputs": [],
   "source": [
    "iris_df = pd.read_csv('Iris.csv')\n"
   ]
  },
  {
   "cell_type": "code",
   "execution_count": 9,
   "id": "b6d0dd07",
   "metadata": {},
   "outputs": [],
   "source": [
    "X = iris_df.drop(columns=['Species']).values\n",
    "y = iris_df['Species'].values"
   ]
  },
  {
   "cell_type": "code",
   "execution_count": 11,
   "id": "af8dc45e",
   "metadata": {},
   "outputs": [],
   "source": [
    "X_train, X_test, y_train, y_test = train_test_split(X, y, test_size=0.2, random_state=42)\n"
   ]
  },
  {
   "cell_type": "code",
   "execution_count": 13,
   "id": "db79f1f8",
   "metadata": {},
   "outputs": [],
   "source": [
    "scaler = StandardScaler()\n",
    "X_train_scaled = scaler.fit_transform(X_train)\n",
    "X_test_scaled = scaler.transform(X_test)"
   ]
  },
  {
   "cell_type": "code",
   "execution_count": 15,
   "id": "cb5c110b",
   "metadata": {},
   "outputs": [],
   "source": [
    "knn = KNeighborsClassifier(n_neighbors=5)\n"
   ]
  },
  {
   "cell_type": "code",
   "execution_count": 16,
   "id": "66e65e0f",
   "metadata": {},
   "outputs": [
    {
     "data": {
      "text/html": [
       "<style>#sk-container-id-1 {color: black;}#sk-container-id-1 pre{padding: 0;}#sk-container-id-1 div.sk-toggleable {background-color: white;}#sk-container-id-1 label.sk-toggleable__label {cursor: pointer;display: block;width: 100%;margin-bottom: 0;padding: 0.3em;box-sizing: border-box;text-align: center;}#sk-container-id-1 label.sk-toggleable__label-arrow:before {content: \"▸\";float: left;margin-right: 0.25em;color: #696969;}#sk-container-id-1 label.sk-toggleable__label-arrow:hover:before {color: black;}#sk-container-id-1 div.sk-estimator:hover label.sk-toggleable__label-arrow:before {color: black;}#sk-container-id-1 div.sk-toggleable__content {max-height: 0;max-width: 0;overflow: hidden;text-align: left;background-color: #f0f8ff;}#sk-container-id-1 div.sk-toggleable__content pre {margin: 0.2em;color: black;border-radius: 0.25em;background-color: #f0f8ff;}#sk-container-id-1 input.sk-toggleable__control:checked~div.sk-toggleable__content {max-height: 200px;max-width: 100%;overflow: auto;}#sk-container-id-1 input.sk-toggleable__control:checked~label.sk-toggleable__label-arrow:before {content: \"▾\";}#sk-container-id-1 div.sk-estimator input.sk-toggleable__control:checked~label.sk-toggleable__label {background-color: #d4ebff;}#sk-container-id-1 div.sk-label input.sk-toggleable__control:checked~label.sk-toggleable__label {background-color: #d4ebff;}#sk-container-id-1 input.sk-hidden--visually {border: 0;clip: rect(1px 1px 1px 1px);clip: rect(1px, 1px, 1px, 1px);height: 1px;margin: -1px;overflow: hidden;padding: 0;position: absolute;width: 1px;}#sk-container-id-1 div.sk-estimator {font-family: monospace;background-color: #f0f8ff;border: 1px dotted black;border-radius: 0.25em;box-sizing: border-box;margin-bottom: 0.5em;}#sk-container-id-1 div.sk-estimator:hover {background-color: #d4ebff;}#sk-container-id-1 div.sk-parallel-item::after {content: \"\";width: 100%;border-bottom: 1px solid gray;flex-grow: 1;}#sk-container-id-1 div.sk-label:hover label.sk-toggleable__label {background-color: #d4ebff;}#sk-container-id-1 div.sk-serial::before {content: \"\";position: absolute;border-left: 1px solid gray;box-sizing: border-box;top: 0;bottom: 0;left: 50%;z-index: 0;}#sk-container-id-1 div.sk-serial {display: flex;flex-direction: column;align-items: center;background-color: white;padding-right: 0.2em;padding-left: 0.2em;position: relative;}#sk-container-id-1 div.sk-item {position: relative;z-index: 1;}#sk-container-id-1 div.sk-parallel {display: flex;align-items: stretch;justify-content: center;background-color: white;position: relative;}#sk-container-id-1 div.sk-item::before, #sk-container-id-1 div.sk-parallel-item::before {content: \"\";position: absolute;border-left: 1px solid gray;box-sizing: border-box;top: 0;bottom: 0;left: 50%;z-index: -1;}#sk-container-id-1 div.sk-parallel-item {display: flex;flex-direction: column;z-index: 1;position: relative;background-color: white;}#sk-container-id-1 div.sk-parallel-item:first-child::after {align-self: flex-end;width: 50%;}#sk-container-id-1 div.sk-parallel-item:last-child::after {align-self: flex-start;width: 50%;}#sk-container-id-1 div.sk-parallel-item:only-child::after {width: 0;}#sk-container-id-1 div.sk-dashed-wrapped {border: 1px dashed gray;margin: 0 0.4em 0.5em 0.4em;box-sizing: border-box;padding-bottom: 0.4em;background-color: white;}#sk-container-id-1 div.sk-label label {font-family: monospace;font-weight: bold;display: inline-block;line-height: 1.2em;}#sk-container-id-1 div.sk-label-container {text-align: center;}#sk-container-id-1 div.sk-container {/* jupyter's `normalize.less` sets `[hidden] { display: none; }` but bootstrap.min.css set `[hidden] { display: none !important; }` so we also need the `!important` here to be able to override the default hidden behavior on the sphinx rendered scikit-learn.org. See: https://github.com/scikit-learn/scikit-learn/issues/21755 */display: inline-block !important;position: relative;}#sk-container-id-1 div.sk-text-repr-fallback {display: none;}</style><div id=\"sk-container-id-1\" class=\"sk-top-container\"><div class=\"sk-text-repr-fallback\"><pre>KNeighborsClassifier()</pre><b>In a Jupyter environment, please rerun this cell to show the HTML representation or trust the notebook. <br />On GitHub, the HTML representation is unable to render, please try loading this page with nbviewer.org.</b></div><div class=\"sk-container\" hidden><div class=\"sk-item\"><div class=\"sk-estimator sk-toggleable\"><input class=\"sk-toggleable__control sk-hidden--visually\" id=\"sk-estimator-id-1\" type=\"checkbox\" checked><label for=\"sk-estimator-id-1\" class=\"sk-toggleable__label sk-toggleable__label-arrow\">KNeighborsClassifier</label><div class=\"sk-toggleable__content\"><pre>KNeighborsClassifier()</pre></div></div></div></div></div>"
      ],
      "text/plain": [
       "KNeighborsClassifier()"
      ]
     },
     "execution_count": 16,
     "metadata": {},
     "output_type": "execute_result"
    }
   ],
   "source": [
    "knn.fit(X_train_scaled, y_train)"
   ]
  },
  {
   "cell_type": "code",
   "execution_count": 20,
   "id": "d2602c56",
   "metadata": {},
   "outputs": [],
   "source": [
    "y_pred = knn.predict(X_test_scaled)"
   ]
  },
  {
   "cell_type": "code",
   "execution_count": 21,
   "id": "00662cf1",
   "metadata": {},
   "outputs": [
    {
     "name": "stdout",
     "output_type": "stream",
     "text": [
      "Accuracy: 1.0\n"
     ]
    }
   ],
   "source": [
    "accuracy = accuracy_score(y_test, y_pred)\n",
    "print(\"Accuracy:\", accuracy)"
   ]
  },
  {
   "cell_type": "code",
   "execution_count": 22,
   "id": "0fcc076b",
   "metadata": {},
   "outputs": [
    {
     "name": "stdout",
     "output_type": "stream",
     "text": [
      "Actual species: Iris-versicolor Predicted species: Iris-versicolor Measurements: [74.   6.1  2.8  4.7  1.2]\n",
      "Actual species: Iris-setosa Predicted species: Iris-setosa Measurements: [19.   5.7  3.8  1.7  0.3]\n",
      "Actual species: Iris-virginica Predicted species: Iris-virginica Measurements: [119.    7.7   2.6   6.9   2.3]\n",
      "Actual species: Iris-versicolor Predicted species: Iris-versicolor Measurements: [79.   6.   2.9  4.5  1.5]\n",
      "Actual species: Iris-versicolor Predicted species: Iris-versicolor Measurements: [77.   6.8  2.8  4.8  1.4]\n",
      "Actual species: Iris-setosa Predicted species: Iris-setosa Measurements: [32.   5.4  3.4  1.5  0.4]\n",
      "Actual species: Iris-versicolor Predicted species: Iris-versicolor Measurements: [65.   5.6  2.9  3.6  1.3]\n",
      "Actual species: Iris-virginica Predicted species: Iris-virginica Measurements: [142.    6.9   3.1   5.1   2.3]\n",
      "Actual species: Iris-versicolor Predicted species: Iris-versicolor Measurements: [69.   6.2  2.2  4.5  1.5]\n",
      "Actual species: Iris-versicolor Predicted species: Iris-versicolor Measurements: [83.   5.8  2.7  3.9  1.2]\n",
      "Actual species: Iris-virginica Predicted species: Iris-virginica Measurements: [111.    6.5   3.2   5.1   2. ]\n",
      "Actual species: Iris-setosa Predicted species: Iris-setosa Measurements: [13.   4.8  3.   1.4  0.1]\n",
      "Actual species: Iris-setosa Predicted species: Iris-setosa Measurements: [37.   5.5  3.5  1.3  0.2]\n",
      "Actual species: Iris-setosa Predicted species: Iris-setosa Measurements: [10.   4.9  3.1  1.5  0.1]\n",
      "Actual species: Iris-setosa Predicted species: Iris-setosa Measurements: [20.   5.1  3.8  1.5  0.3]\n",
      "Actual species: Iris-versicolor Predicted species: Iris-versicolor Measurements: [57.   6.3  3.3  4.7  1.6]\n",
      "Actual species: Iris-virginica Predicted species: Iris-virginica Measurements: [105.    6.5   3.    5.8   2.2]\n",
      "Actual species: Iris-versicolor Predicted species: Iris-versicolor Measurements: [70.   5.6  2.5  3.9  1.1]\n",
      "Actual species: Iris-versicolor Predicted species: Iris-versicolor Measurements: [56.   5.7  2.8  4.5  1.3]\n",
      "Actual species: Iris-virginica Predicted species: Iris-virginica Measurements: [133.    6.4   2.8   5.6   2.2]\n",
      "Actual species: Iris-setosa Predicted species: Iris-setosa Measurements: [30.   4.7  3.2  1.6  0.2]\n",
      "Actual species: Iris-virginica Predicted species: Iris-virginica Measurements: [128.    6.1   3.    4.9   1.8]\n",
      "Actual species: Iris-setosa Predicted species: Iris-setosa Measurements: [27.   5.   3.4  1.6  0.4]\n",
      "Actual species: Iris-virginica Predicted species: Iris-virginica Measurements: [129.    6.4   2.8   5.6   2.1]\n",
      "Actual species: Iris-virginica Predicted species: Iris-virginica Measurements: [132.    7.9   3.8   6.4   2. ]\n",
      "Actual species: Iris-virginica Predicted species: Iris-virginica Measurements: [146.    6.7   3.    5.2   2.3]\n",
      "Actual species: Iris-virginica Predicted species: Iris-virginica Measurements: [109.    6.7   2.5   5.8   1.8]\n",
      "Actual species: Iris-virginica Predicted species: Iris-virginica Measurements: [144.    6.8   3.2   5.9   2.3]\n",
      "Actual species: Iris-setosa Predicted species: Iris-setosa Measurements: [46.   4.8  3.   1.4  0.3]\n",
      "Actual species: Iris-setosa Predicted species: Iris-setosa Measurements: [31.   4.8  3.1  1.6  0.2]\n"
     ]
    }
   ],
   "source": [
    "for i in range(len(X_test)):\n",
    "    print(\"Actual species:\", y_test[i], \"Predicted species:\", y_pred[i], \"Measurements:\", X_test[i])"
   ]
  }
 ],
 "metadata": {
  "kernelspec": {
   "display_name": "Python 3 (ipykernel)",
   "language": "python",
   "name": "python3"
  },
  "language_info": {
   "codemirror_mode": {
    "name": "ipython",
    "version": 3
   },
   "file_extension": ".py",
   "mimetype": "text/x-python",
   "name": "python",
   "nbconvert_exporter": "python",
   "pygments_lexer": "ipython3",
   "version": "3.10.9"
  }
 },
 "nbformat": 4,
 "nbformat_minor": 5
}
